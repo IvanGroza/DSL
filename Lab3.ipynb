{
  "nbformat": 4,
  "nbformat_minor": 0,
  "metadata": {
    "colab": {
      "name": "Untitled2.ipynb",
      "provenance": [],
      "authorship_tag": "ABX9TyPgDC17aHkhZXls1J3meg6B",
      "include_colab_link": true
    },
    "kernelspec": {
      "name": "python3",
      "display_name": "Python 3"
    },
    "language_info": {
      "name": "python"
    }
  },
  "cells": [
    {
      "cell_type": "markdown",
      "metadata": {
        "id": "view-in-github",
        "colab_type": "text"
      },
      "source": [
        "<a href=\"https://colab.research.google.com/github/IvanGroza/DSL/blob/main/Lab3.ipynb\" target=\"_parent\"><img src=\"https://colab.research.google.com/assets/colab-badge.svg\" alt=\"Open In Colab\"/></a>"
      ]
    },
    {
      "cell_type": "markdown",
      "source": [
        "{'toks': set(token), 'vars': dict(var: definition), 'hvar': var}\n",
        "token: (class, value)\n",
        "class: int\n",
        "value: str\n",
        "var: str                 # name of the non-terminal symbol\n",
        "definition: list(rule)\n",
        "rule: list(var | token)  # right part of the rule"
      ],
      "metadata": {
        "id": "oS2fE74j7Ey7"
      }
    },
    {
      "cell_type": "code",
      "source": [
        "def get_vanish(grammar) -> set:\n",
        "  \"\"\"\n",
        "  Search for vanish symbols.\n",
        "\n",
        "  :param grammar: free grammar without left recursion\n",
        "  :return: set of vanishing nonterminals symbols\n",
        "  \"\"\"\n",
        "  def all_vanish_symbols(rule: str) -> bool:\n",
        "    for s in rule:\n",
        "      if s not in vanish and s != (0, ''):\n",
        "        return False\n",
        "    return True    \n",
        "  \n",
        "  vanish = set()\n",
        "\n",
        "  # on each step add all nonterminal symbols for which there is a rule that contains only vanishing vars or empty token\n",
        "  prev_step_number = -1\n",
        "  while len(vanish) != prev_step_number:\n",
        "    prev_step_number = len(vanish)\n",
        "    vanish.update([v for v, defin in grammar['vars'].items() if list(filter(all_vanish_symbols, defin)) != []])\n",
        "\n",
        "  return vanish"
      ],
      "metadata": {
        "id": "fBp9SCzv7HRZ"
      },
      "execution_count": 2,
      "outputs": []
    },
    {
      "cell_type": "code",
      "source": [
        "def FIRST(grammar, s: str) -> set:\n",
        "  \"\"\"\n",
        "    Find the set of terminal symbols that strings derived from A begin with. ({a: A ->> aα})\n",
        "\n",
        "   :param grammar: free grammar without left recursion\n",
        "   :param s: nonterminal symbol of the grammar\n",
        "   :return: set of possible terminals\n",
        "            if the given nonterminal symbol is vanish, then the end of input is added to the returned set\n",
        "  \"\"\"\n",
        "  terminals = set()\n",
        "\n",
        "  for definition in grammar['vars'][s]:\n",
        "    index = 0\n",
        "    # add FIRST of each vanish symbol of the begging of the rule definition\n",
        "    while index < len(definition) and definition[index] in get_vanish(grammar):\n",
        "      terminals.update(FIRST(grammar, definition[index]))\n",
        "      index += 1\n",
        "    if index < len(definition) and definition[index] not in grammar['toks']:\n",
        "      # add the FIRST of the first not vanish nonterminal symbol of the rule definition\n",
        "      terminals.update(FIRST(grammar, definition[index]))\n",
        "    elif index < len(definition):\n",
        "      # add the first terminal symbol of the rule definition\n",
        "      terminals.add(definition[index])\n",
        "\n",
        "  if s in get_vanish(grammar):\n",
        "    terminals.add((7, '⊳'))\n",
        "    \n",
        "  return terminals\n"
      ],
      "metadata": {
        "id": "_NUDdfhq7Lyo"
      },
      "execution_count": 3,
      "outputs": []
    },
    {
      "cell_type": "code",
      "source": [
        "def FOLLOW(grammar, s: str) -> set:\n",
        "  \"\"\"\n",
        "   Find the set of terminal symbols that can follow after the given nonterminal symbol A. ({a: S ->> αAaβ})\n",
        "\n",
        "   :param grammar: free grammar without left recursion\n",
        "   :param s: nonterminal symbol of the grammar\n",
        "   :return: set of possible terminals\n",
        "            if S ->> αA, then the end of input is added to the returned set\n",
        "  \"\"\"\n",
        "  terminals = set()\n",
        "\n",
        "  for var, definitions in grammar['vars'].items():\n",
        "    for definition in definitions:\n",
        "      for i in [i for i,x in enumerate(definition) if x == s]:\n",
        "        # add FIRST of each vanish symbol that follows after the given nonterminal symbol\n",
        "        j = 1\n",
        "        next_symbol = definition[i + j] if j < len(definition) else None\n",
        "        while next_symbol and next_symbol in get_vanish(grammar):\n",
        "          terminals.update(first(grammar, next_symbol))\n",
        "          j += 1\n",
        "\n",
        "        # add FOLLOW of var if the rule definition ends with the given nonterminal symbol\n",
        "        if var != s and j == len(definition):\n",
        "          terminals.update(follow(grammar, var))  \n",
        "\n",
        "        # add first terminal symbol that follows after the given nonterminal symbol\n",
        "        if j < len(definition) and definition[j] in grammar['toks']:\n",
        "          terminals.add(definition[j])\n",
        "        # add the FIRST of the first not vanish nonterminal symbol of the rule definition\n",
        "        elif j < len(definition):\n",
        "          terminals.update(first(grammar, definition[j]))\n",
        "        else:\n",
        "          terminals.add((7, '⊳'))\n",
        "\n",
        "  return terminals"
      ],
      "metadata": {
        "id": "sTNr9fHY7OWD"
      },
      "execution_count": 4,
      "outputs": []
    },
    {
      "cell_type": "code",
      "source": [
        "\"\"\"\n",
        "  S  -> TS'\n",
        "  S' -> +TS' ∣ e\n",
        "  T  -> FT'\n",
        "  T' -> *FT' ∣ e\n",
        "  F  -> v ∣ n ∣ (S)\n",
        "\"\"\"\n",
        "grammar = {\n",
        "    'toks': {(0, ''), (1, '+'), (2, '*'), (3, 'v'), (4, 'n'), (5, '('), (6, ')'), (7, '⊳')},\n",
        "    'vars': {\n",
        "        'S': [['T', \"S'\"]], \n",
        "        \"S'\": [[(1, '+'), 'T', \"S'\"], \n",
        "                [(0, '')]], \n",
        "        'T': [['F', \"T'\"]],\n",
        "        \"T'\": [[(2, '*'), 'F', \"T'\"],\n",
        "                [(0, '')]],\n",
        "        'F': [[(3, 'v')],\n",
        "              [(4, 'n')],\n",
        "              [(5, '('), 'S', (6, ')')]]\n",
        "        },\n",
        "    'hvar': 'S'\n",
        "    }\n",
        "\n",
        "print(\"FIRST(S) = {}\".format(FIRST(grammar, \"S\")))\n",
        "print(\"FIRST(T) = {}\".format(FIRST(grammar, \"T\")))\n",
        "print(\"FIRST(F) = {}\".format(FIRST(grammar, \"F\")))\n",
        "print(\"FIRST(S') = {}\".format(FIRST(grammar, \"S'\")))\n",
        "print(\"FIRST(T') = {}\".format(FIRST(grammar, \"T'\")))\n",
        "\n",
        "print(\"-----------------------------------------------\")\n",
        "\n",
        "print(\"FOLLOW(S) = {}\".format(FIRST(grammar, \"S\")))\n",
        "print(\"FOLLOW(T) = {}\".format(FIRST(grammar, \"T\")))\n",
        "print(\"FOLLOW(F) = {}\".format(FIRST(grammar, \"F\")))\n",
        "print(\"FOLLOW(S') = {}\".format(FIRST(grammar, \"S'\")))\n",
        "print(\"FOLLOW(T') = {}\".format(FIRST(grammar, \"T'\")))"
      ],
      "metadata": {
        "colab": {
          "base_uri": "https://localhost:8080/"
        },
        "id": "G2v5LhPw72RG",
        "outputId": "543d99ae-de9e-4061-b84c-24f9fd4d31c5"
      },
      "execution_count": 6,
      "outputs": [
        {
          "output_type": "stream",
          "name": "stdout",
          "text": [
            "FIRST(S) = {(3, 'v'), (5, '('), (4, 'n')}\n",
            "FIRST(T) = {(3, 'v'), (5, '('), (4, 'n')}\n",
            "FIRST(F) = {(3, 'v'), (5, '('), (4, 'n')}\n",
            "FIRST(S') = {(0, ''), (7, '⊳'), (1, '+')}\n",
            "FIRST(T') = {(0, ''), (7, '⊳'), (2, '*')}\n",
            "-----------------------------------------------\n",
            "FOLLOW(S) = {(3, 'v'), (5, '('), (4, 'n')}\n",
            "FOLLOW(T) = {(3, 'v'), (5, '('), (4, 'n')}\n",
            "FOLLOW(F) = {(3, 'v'), (5, '('), (4, 'n')}\n",
            "FOLLOW(S') = {(0, ''), (7, '⊳'), (1, '+')}\n",
            "FOLLOW(T') = {(0, ''), (7, '⊳'), (2, '*')}\n"
          ]
        }
      ]
    }
  ]
}