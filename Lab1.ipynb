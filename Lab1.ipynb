{
  "nbformat": 4,
  "nbformat_minor": 0,
  "metadata": {
    "colab": {
      "name": "Lab1.ipynb",
      "provenance": [],
      "authorship_tag": "ABX9TyPlUWs4VbNxbRJU0eRh1Wo1",
      "include_colab_link": true
    },
    "kernelspec": {
      "name": "python3",
      "display_name": "Python 3"
    },
    "language_info": {
      "name": "python"
    }
  },
  "cells": [
    {
      "cell_type": "markdown",
      "metadata": {
        "id": "view-in-github",
        "colab_type": "text"
      },
      "source": [
        "<a href=\"https://colab.research.google.com/github/IvanGroza/DSL/blob/main/Lab1.ipynb\" target=\"_parent\"><img src=\"https://colab.research.google.com/assets/colab-badge.svg\" alt=\"Open In Colab\"/></a>"
      ]
    },
    {
      "cell_type": "code",
      "execution_count": null,
      "metadata": {
        "id": "ILroLu_B8R2V"
      },
      "outputs": [],
      "source": [
        "def splitWhiteSpases (text, whitespaces):\n",
        "  splitResult = []\n",
        "  splitWord = \"\" \n",
        "\n",
        "  isWhiteSpace = lambda x: x in whitespaces \n",
        "\n",
        "  for i in text:\n",
        "    if (splitWord == \"\" and isWhiteSpace(i)):\n",
        "      continue\n",
        "    elif (isWhiteSpace(i)): \n",
        "      splitResult.append(splitWord)\n",
        "      splitWord = \"\"\n",
        "    else:\n",
        "      splitWord += i  \n",
        "  splitResult.append(splitWord)\n",
        "  return splitResult"
      ]
    },
    {
      "cell_type": "markdown",
      "source": [
        "splitResult - variable into which I write the result\n",
        "\n",
        "splitWord - variable into which I write one world for future result\n",
        "\n",
        "isWhiteSpace - lambda that takes x and checks if it is member of whiteSpaces\n",
        "\n",
        "In a loop below we check if a whitespace is encountered and if splitWorld is empty if yes - we want to continue the loop without adding empty elements if no - we again check if a whitespace is encountered\n",
        "if yes - we add splitWorld to the splitResult if no - we add current character to splitWorld"
      ],
      "metadata": {
        "id": "h92vx10b8XiQ"
      }
    },
    {
      "cell_type": "code",
      "source": [
        "if __name__ == '__main__':  \n",
        "  whitespaces = [' ', '\\n']\n",
        "  text = \"Python Hello world!!! \\n Python\"\n",
        "  print(splitWhiteSpases(text, whitespaces))"
      ],
      "metadata": {
        "id": "fBRUHsoE8w4S"
      },
      "execution_count": null,
      "outputs": []
    },
    {
      "cell_type": "markdown",
      "source": [
        "['Python', 'Hello', 'world!!!', 'Python']\n",
        "whitespaces - a variable in which we indicate which characters we do not want to take into\n",
        "\n",
        "text - string varible with the text we want to process\n",
        "\n",
        "splitWhiteSpases - function that take whitespaces and text variables and return string without whitespaces symbols"
      ],
      "metadata": {
        "id": "JNRiNRjQ80Lf"
      }
    }
  ]
}