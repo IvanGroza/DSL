{
  "nbformat": 4,
  "nbformat_minor": 0,
  "metadata": {
    "colab": {
      "name": "Lab2.ipynb",
      "provenance": [],
      "authorship_tag": "ABX9TyMijn+l8PuNh+FUhDlj88Ad",
      "include_colab_link": true
    },
    "kernelspec": {
      "name": "python3",
      "display_name": "Python 3"
    },
    "language_info": {
      "name": "python"
    }
  },
  "cells": [
    {
      "cell_type": "markdown",
      "metadata": {
        "id": "view-in-github",
        "colab_type": "text"
      },
      "source": [
        "<a href=\"https://colab.research.google.com/github/IvanGroza/DSL/blob/main/Lab2.ipynb\" target=\"_parent\"><img src=\"https://colab.research.google.com/assets/colab-badge.svg\" alt=\"Open In Colab\"/></a>"
      ]
    },
    {
      "cell_type": "code",
      "source": [
        "def productive_symbols(grammar) -> set:\n",
        "  productive = set()\n",
        "  prev_count = None\n",
        "\n",
        "  def absent_unproductive_symbols(rule: str) -> bool:\n",
        "    return all(map(lambda s: s in productive or s in grammar['toks'], rule))\n",
        "\n",
        "  while len(productive) != prev_count:\n",
        "    prev_count = len(productive)\n",
        "    productive_symbols = [var for var, definition in grammar['vars'].items() if list(filter(absent_unproductive_symbols, definition)) != []]\n",
        "    productive = productive.union(set(productive_symbols))\n",
        "\n",
        "  return productive\n",
        "def reachable_symbols(grammar) -> set:\n",
        "  reachable = {grammar['hvar']}\n",
        "  prev_count = None\n",
        "\n",
        "  while len(reachable) != prev_count:\n",
        "    prev_count = len(reachable)\n",
        "    for var, definition in grammar['vars'].items():\n",
        "      if var in reachable:\n",
        "        for rule in definition:\n",
        "          reachable = reachable.union(set(filter(lambda s: s not in grammar['toks'], rule)))\n",
        "\n",
        "  return reachable\n",
        "from copy import deepcopy\n",
        "\n",
        "def remove_useless_symbols(grammar):\n",
        "  grammar_copy = deepcopy(grammar)\n",
        "\n",
        "  productive = productive_symbols(grammar)\n",
        "  grammar_copy['vars'] = {var: [rule for rule in definition if all(map(lambda s: s in productive or s in grammar['toks'], rule))] \n",
        "                          for var, definition in grammar_copy['vars'].items()}\n",
        "\n",
        "  reachable = reachable_symbols(grammar_copy)\n",
        "  grammar_copy['vars'] = {var: [rule for rule in definition if all(map(lambda s: s in reachable or s in grammar['toks'], rule))] \n",
        "                          for var, definition in grammar_copy['vars'].items() if var in reachable}\n",
        "\n",
        "  return grammar_copy\n",
        "def nullable_symbols(grammar) -> set:\n",
        "  nullable = set()\n",
        "  prev_count = None\n",
        "\n",
        "  def all_nullable_symbols(rule: str) -> bool:\n",
        "    return all(map(lambda s: s in nullable or s == (0, ''), rule))\n",
        "\n",
        "  while len(nullable) != prev_count:\n",
        "    prev_count = len(nullable)\n",
        "    nullable_symbols = [var for var, definition in grammar['vars'].items() \n",
        "                        if list(filter(all_nullable_symbols, definition)) != []]\n",
        "    nullable = nullable.union(set(nullable_symbols))\n",
        "\n",
        "  return nullable\n",
        "def test():\n",
        "  grammar = {\n",
        "      'toks': {(0, ''), (1, 'a'), (2, 'b'), (3, 'c')},\n",
        "      'vars': {\n",
        "          'S': [[(1, 'a'), 'M'],\n",
        "                [(1, 'a'), 'S'],\n",
        "                ['K']], \n",
        "          'K': [[(3, 'c')], \n",
        "                [(0, '')]], \n",
        "          'M': [['M', 'P']],\n",
        "          'P': [[(3, 'c')]]\n",
        "          },\n",
        "      'hvar': 'S'\n",
        "      }\n",
        "\n",
        "  grammar = remove_useless_symbols(grammar)\n",
        "  print(grammar)\n",
        "\n",
        "  print('Nullable symbols are ' + str(nullable_symbols(grammar)))\n",
        "\n",
        "test()"
      ],
      "metadata": {
        "colab": {
          "base_uri": "https://localhost:8080/"
        },
        "id": "xJLk1cvf_bzI",
        "outputId": "efebb26a-7c67-44f5-99e5-97517fff7012"
      },
      "execution_count": 6,
      "outputs": [
        {
          "output_type": "stream",
          "name": "stdout",
          "text": [
            "{'toks': {(3, 'c'), (1, 'a'), (0, ''), (2, 'b')}, 'vars': {'S': [[(1, 'a'), 'S'], ['K']], 'K': [[(3, 'c')], [(0, '')]]}, 'hvar': 'S'}\n",
            "Nullable symbols are {'S', 'K'}\n"
          ]
        }
      ]
    },
    {
      "cell_type": "markdown",
      "source": [
        "{'toks': {(3, 'c'), (1, 'a'), (0, ''), (2, 'b')}, 'vars': {'S': [[(1, 'a'), 'S'], ['K']], 'K': [[(3, 'c')], [(0, '')]]}, 'hvar': 'S'}\n",
        "Nullable symbols are {'S', 'K'}"
      ],
      "metadata": {
        "id": "ADTszuy8_rAi"
      }
    }
  ]
}